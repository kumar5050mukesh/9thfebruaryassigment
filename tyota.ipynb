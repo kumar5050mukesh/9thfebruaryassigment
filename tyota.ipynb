{
 "cells": [
  {
   "cell_type": "code",
   "execution_count": 21,
   "id": "3ddb2025-5df5-4c0d-8f83-c6c9da9afb5f",
   "metadata": {},
   "outputs": [
    {
     "name": "stdout",
     "output_type": "stream",
     "text": [
      "maruti 120\n"
     ]
    }
   ],
   "source": [
    "'''Q1, Create a vehicle class with an init method having instance variables as name_of_vehicle, max_speed\n",
    "and average_of_vehicle.\n",
    "Q2. Create a child class car from the vehicle class created in Que 1, which will inherit the vehicle class.\n",
    "Create a method named seating_capacity which takes capacity as an argument and returns the name of\n",
    "the vehicle and its seating capacity.\n",
    "Q3. What is multiple inheritance? Write a python code to demonstrate multiple inheritance.\n",
    "Q4. What are getter and setter in python? Create a class and create a getter and a setter method in this\n",
    "class.\n",
    "Q5.What is method overriding in python? Write a python code to demonstrate method overriding.'''\n",
    "\n",
    "\n",
    "'''ans(1) '''\n",
    "class Vehicle :\n",
    "    def __init__(self,name_of_vehicle,max_speed,average_of_vehicle ):\n",
    "        self.name_of_vehicle =name_of_vehicle\n",
    "        self.max_speed=max_speed\n",
    "        self.average_of_vehicle=average_of_vehicle\n",
    "        \n",
    "p=Vehicle('maruti',120,20)\n",
    "print(p.name_of_vehicle,p.max_speed)\n",
    "        \n"
   ]
  },
  {
   "cell_type": "code",
   "execution_count": 23,
   "id": "308dd873-2a53-4557-8cda-9946e2128167",
   "metadata": {},
   "outputs": [
    {
     "name": "stdout",
     "output_type": "stream",
     "text": [
      "hyndai\n",
      "10\n"
     ]
    }
   ],
   "source": [
    "'''answer of the question 2'''\n",
    "class Vehicle :\n",
    "    def __init__(self,name_of_vehicle,max_speed,average_of_vehicle ):\n",
    "        self.name_of_vehicle =name_of_vehicle\n",
    "        self.max_speed=max_speed\n",
    "        self.average_of_vehicle=average_of_vehicle\n",
    "class Car(Vehicle):\n",
    "    pass\n",
    "\n",
    "p=Car('hyndai',150,10)\n",
    "print(p.name_of_vehicle)\n",
    "print(p.average_of_vehicle)"
   ]
  },
  {
   "cell_type": "code",
   "execution_count": 24,
   "id": "b2b67d97-0884-4f11-b60c-eb4afa1a1d8e",
   "metadata": {},
   "outputs": [
    {
     "name": "stdout",
     "output_type": "stream",
     "text": [
      "My name is coming from Vehicle class: Vehicle Name\n",
      "This is a print from Car method: gaya\n"
     ]
    }
   ],
   "source": [
    "class Vehicle:\n",
    "    def __init__(self, name_of_vehicle, max_speed, average_of_vehicle):\n",
    "        self.name_of_vehicle = name_of_vehicle\n",
    "        self.max_speed = max_speed\n",
    "        self.average_of_vehicle = average_of_vehicle\n",
    "        \n",
    "class Car:\n",
    "    def __init__(self, location):\n",
    "        self.location = location\n",
    "       \n",
    "    \n",
    "class Car1(Vehicle, Car):\n",
    "    def __init__(self, name_of_vehicle, max_speed, average_of_vehicle, location):\n",
    "        Vehicle.__init__(self, name_of_vehicle, max_speed, average_of_vehicle)\n",
    "        Car.__init__(self, location)\n",
    "        print('My name is coming from Vehicle class:', self.name_of_vehicle)\n",
    "        print('This is a print from Car method:', self.location)\n",
    "        \n",
    "c = Car1('Vehicle Name', 100, 10, 'gaya')\n"
   ]
  },
  {
   "cell_type": "code",
   "execution_count": 50,
   "id": "00b721eb-c565-45d1-a054-f2f710e1a020",
   "metadata": {},
   "outputs": [
    {
     "data": {
      "text/plain": [
       "2000"
      ]
     },
     "execution_count": 50,
     "metadata": {},
     "output_type": "execute_result"
    }
   ],
   "source": [
    "class BankAccount:\n",
    "    def __init__(self, balance):\n",
    "        self.__balance = balance\n",
    "    def g_bal(self):\n",
    "        return self.__balance\n",
    "    \n",
    "    def set_balance(self, balance):\n",
    "        self.__balance = balance\n",
    "      \n",
    "        \n",
    "\n",
    "    \n",
    "    def deposit_money(self, amount):\n",
    "        self.__balance += amount\n",
    "       \n",
    "        \n",
    "    def withdraw_money(self, amount):\n",
    "        self.__balance -= amount\n",
    "        \n",
    "        \n",
    "   \n",
    "        \n",
    "c = BankAccount(1000)\n",
    "c.deposit_money(1000)\n",
    "c.g_bal()\n",
    "\n",
    "if any variable is declared as the private then we write the getter and the setter methods to to return the value \n",
    "of the variable"
   ]
  },
  {
   "cell_type": "code",
   "execution_count": 57,
   "id": "7d2a5347-264a-4a41-a4bd-926d0556b60d",
   "metadata": {},
   "outputs": [
    {
     "name": "stdout",
     "output_type": "stream",
     "text": [
      "i belong to the Bus1\n",
      "i beling to the Bus2\n"
     ]
    }
   ],
   "source": [
    "'''Q5.What is method overriding in python? Write a python code to demonstrate method overriding.'''\n",
    "\n",
    "'''method overriding means that there are two methods that has same name then the object will call the method \n",
    "of the to which class does it belong'''\n",
    "\n",
    "class Vehi:\n",
    "    def __init__(self,name):\n",
    "        self.name=name\n",
    "        \n",
    "class Bus1:\n",
    "    \n",
    "    def printinfo():\n",
    "        print('i belong to the Bus1')\n",
    "        \n",
    "        \n",
    "class Bus2:\n",
    "    def printinfo():\n",
    "        print('i beling to the Bus2')\n",
    "        \n",
    "z=Bus1\n",
    "z.printinfo()\n",
    "w=Bus2\n",
    "w.printinfo()\n",
    "    \n"
   ]
  },
  {
   "cell_type": "code",
   "execution_count": null,
   "id": "d55cdc10-8e32-4534-9ee4-d27c4dfa02d8",
   "metadata": {},
   "outputs": [],
   "source": []
  }
 ],
 "metadata": {
  "kernelspec": {
   "display_name": "Python 3 (ipykernel)",
   "language": "python",
   "name": "python3"
  },
  "language_info": {
   "codemirror_mode": {
    "name": "ipython",
    "version": 3
   },
   "file_extension": ".py",
   "mimetype": "text/x-python",
   "name": "python",
   "nbconvert_exporter": "python",
   "pygments_lexer": "ipython3",
   "version": "3.10.8"
  }
 },
 "nbformat": 4,
 "nbformat_minor": 5
}
